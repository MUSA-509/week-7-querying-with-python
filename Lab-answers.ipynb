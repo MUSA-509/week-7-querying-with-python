{
 "cells": [
  {
   "cell_type": "markdown",
   "metadata": {},
   "source": [
    "# Lab 7: Turning Queries into Functions\n",
    "\n",
    "## First, let's setup the database engine like we did last week\n",
    "\n",
    "### Load DB credentials"
   ]
  },
  {
   "cell_type": "code",
   "execution_count": 1,
   "metadata": {},
   "outputs": [],
   "source": [
    "import json\n",
    "\n",
    "# TODO: make sure to download credentials from https://canvas.upenn.edu/files/89654914/download?download_frd=1\n",
    "# save them to the base directory for this repo\n",
    "with open(\"pg-credentials.json\") as creds:\n",
    "    creds = json.load(creds)\n",
    "\n",
    "PASSWORD = creds[\"PASSWORD\"]\n",
    "HOST = creds[\"HOST\"]\n",
    "USERNAME = creds[\"USERNAME\"]\n",
    "DATABASE = creds[\"DATABASE\"]\n",
    "PORT = creds[\"PORT\"]"
   ]
  },
  {
   "cell_type": "markdown",
   "metadata": {},
   "source": [
    "### Create DB engine"
   ]
  },
  {
   "cell_type": "code",
   "execution_count": 2,
   "metadata": {},
   "outputs": [],
   "source": [
    "from sqlalchemy import create_engine\n",
    "\n",
    "engine = create_engine(f\"postgresql://{USERNAME}:{PASSWORD}@{HOST}:{PORT}/{DATABASE}\")"
   ]
  },
  {
   "cell_type": "code",
   "execution_count": 3,
   "metadata": {},
   "outputs": [
    {
     "data": {
      "text/plain": [
       "[('Hello',)]"
      ]
     },
     "execution_count": 3,
     "metadata": {},
     "output_type": "execute_result"
    }
   ],
   "source": [
    "# make sure it works\n",
    "\n",
    "rows = engine.execute(\"SELECT 'Hello' as hithere\").fetchall()\n",
    "rows"
   ]
  },
  {
   "cell_type": "code",
   "execution_count": 4,
   "metadata": {},
   "outputs": [
    {
     "data": {
      "text/plain": [
       "('Hello',)"
      ]
     },
     "execution_count": 4,
     "metadata": {},
     "output_type": "execute_result"
    }
   ],
   "source": [
    "rows[0]"
   ]
  },
  {
   "cell_type": "markdown",
   "metadata": {},
   "source": [
    "## Review"
   ]
  },
  {
   "cell_type": "markdown",
   "metadata": {},
   "source": [
    "## Review from Lecture\n",
    "\n",
    "* Query templates\n",
    "* Putting a query template into a function for reusable code\n",
    "\n",
    "## 0. Review: Query Templating\n",
    "\n",
    "### Avoid SQL injection\n",
    "\n",
    "![](https://imgs.xkcd.com/comics/exploits_of_a_mom.png)\n",
    "\n",
    "<https://imgs.xkcd.com/comics/exploits_of_a_mom.png>\n",
    "\n",
    "### Let's see how SQLAlchemy templates our queries\n",
    "\n",
    "**Valid Inputs**"
   ]
  },
  {
   "cell_type": "code",
   "execution_count": 22,
   "metadata": {},
   "outputs": [],
   "source": [
    "from sqlalchemy.sql import text\n",
    "\n",
    "q = text(\"SELECT name, totaldocks, docksavailable FROM indego_station_status LIMIT :num\")"
   ]
  },
  {
   "cell_type": "code",
   "execution_count": 23,
   "metadata": {},
   "outputs": [
    {
     "data": {
      "text/plain": [
       "'SELECT name, totaldocks, docksavailable FROM indego_station_status LIMIT 10'"
      ]
     },
     "execution_count": 23,
     "metadata": {},
     "output_type": "execute_result"
    }
   ],
   "source": [
    "str(q.bindparams(num=10).compile(bind=engine, compile_kwargs={\"literal_binds\": True}))"
   ]
  },
  {
   "cell_type": "code",
   "execution_count": 24,
   "metadata": {},
   "outputs": [
    {
     "data": {
      "text/plain": [
       "[('11th & Poplar, John F. Street Community Center', 15, 11),\n",
       " ('Amtrak 30th Street Station', 21, 20),\n",
       " ('43rd & Chester, Clark Park', 19, 14),\n",
       " ('Front & Carpenter', 25, 22),\n",
       " ('Philadelphia Zoo', 12, 9)]"
      ]
     },
     "execution_count": 24,
     "metadata": {},
     "output_type": "execute_result"
    }
   ],
   "source": [
    "engine.execute(q, num=5).fetchall()"
   ]
  },
  {
   "cell_type": "markdown",
   "metadata": {},
   "source": [
    "**Invalid Inputs**"
   ]
  },
  {
   "cell_type": "code",
   "execution_count": null,
   "metadata": {},
   "outputs": [],
   "source": [
    "SELECT name, totaldocks, docksavailable FROM indego_station_status LIMIT 2; select * from andys_cookies;"
   ]
  },
  {
   "cell_type": "code",
   "execution_count": 25,
   "metadata": {},
   "outputs": [
    {
     "data": {
      "text/plain": [
       "\"SELECT name, totaldocks, docksavailable FROM indego_station_status LIMIT '2; select * from andys_cookies;'\""
      ]
     },
     "execution_count": 25,
     "metadata": {},
     "output_type": "execute_result"
    }
   ],
   "source": [
    "str(q.bindparams(num='2; select * from andys_cookies;').compile(bind=engine, compile_kwargs={\"literal_binds\": True}))"
   ]
  },
  {
   "cell_type": "code",
   "execution_count": 26,
   "metadata": {
    "collapsed": true,
    "jupyter": {
     "outputs_hidden": true
    }
   },
   "outputs": [
    {
     "ename": "DataError",
     "evalue": "(psycopg2.errors.InvalidTextRepresentation) invalid input syntax for type bigint: \"2; select * from andys_cookies;\"\nLINE 1: ..., docksavailable FROM indego_station_status LIMIT '2; select...\n                                                             ^\n\n[SQL: SELECT name, totaldocks, docksavailable FROM indego_station_status LIMIT %(num)s]\n[parameters: {'num': '2; select * from andys_cookies;'}]\n(Background on this error at: http://sqlalche.me/e/13/9h9h)",
     "output_type": "error",
     "traceback": [
      "\u001b[0;31m---------------------------------------------------------------------------\u001b[0m",
      "\u001b[0;31mInvalidTextRepresentation\u001b[0m                 Traceback (most recent call last)",
      "\u001b[0;32m~/opt/miniconda3/envs/musa509week6/lib/python3.8/site-packages/sqlalchemy/engine/base.py\u001b[0m in \u001b[0;36m_execute_context\u001b[0;34m(self, dialect, constructor, statement, parameters, *args)\u001b[0m\n\u001b[1;32m   1275\u001b[0m                 \u001b[0;32mif\u001b[0m \u001b[0;32mnot\u001b[0m \u001b[0mevt_handled\u001b[0m\u001b[0;34m:\u001b[0m\u001b[0;34m\u001b[0m\u001b[0;34m\u001b[0m\u001b[0m\n\u001b[0;32m-> 1276\u001b[0;31m                     self.dialect.do_execute(\n\u001b[0m\u001b[1;32m   1277\u001b[0m                         \u001b[0mcursor\u001b[0m\u001b[0;34m,\u001b[0m \u001b[0mstatement\u001b[0m\u001b[0;34m,\u001b[0m \u001b[0mparameters\u001b[0m\u001b[0;34m,\u001b[0m \u001b[0mcontext\u001b[0m\u001b[0;34m\u001b[0m\u001b[0;34m\u001b[0m\u001b[0m\n",
      "\u001b[0;32m~/opt/miniconda3/envs/musa509week6/lib/python3.8/site-packages/sqlalchemy/engine/default.py\u001b[0m in \u001b[0;36mdo_execute\u001b[0;34m(self, cursor, statement, parameters, context)\u001b[0m\n\u001b[1;32m    592\u001b[0m     \u001b[0;32mdef\u001b[0m \u001b[0mdo_execute\u001b[0m\u001b[0;34m(\u001b[0m\u001b[0mself\u001b[0m\u001b[0;34m,\u001b[0m \u001b[0mcursor\u001b[0m\u001b[0;34m,\u001b[0m \u001b[0mstatement\u001b[0m\u001b[0;34m,\u001b[0m \u001b[0mparameters\u001b[0m\u001b[0;34m,\u001b[0m \u001b[0mcontext\u001b[0m\u001b[0;34m=\u001b[0m\u001b[0;32mNone\u001b[0m\u001b[0;34m)\u001b[0m\u001b[0;34m:\u001b[0m\u001b[0;34m\u001b[0m\u001b[0;34m\u001b[0m\u001b[0m\n\u001b[0;32m--> 593\u001b[0;31m         \u001b[0mcursor\u001b[0m\u001b[0;34m.\u001b[0m\u001b[0mexecute\u001b[0m\u001b[0;34m(\u001b[0m\u001b[0mstatement\u001b[0m\u001b[0;34m,\u001b[0m \u001b[0mparameters\u001b[0m\u001b[0;34m)\u001b[0m\u001b[0;34m\u001b[0m\u001b[0;34m\u001b[0m\u001b[0m\n\u001b[0m\u001b[1;32m    594\u001b[0m \u001b[0;34m\u001b[0m\u001b[0m\n",
      "\u001b[0;31mInvalidTextRepresentation\u001b[0m: invalid input syntax for type bigint: \"2; select * from andys_cookies;\"\nLINE 1: ..., docksavailable FROM indego_station_status LIMIT '2; select...\n                                                             ^\n",
      "\nThe above exception was the direct cause of the following exception:\n",
      "\u001b[0;31mDataError\u001b[0m                                 Traceback (most recent call last)",
      "\u001b[0;32m<ipython-input-26-ba676e91eae3>\u001b[0m in \u001b[0;36m<module>\u001b[0;34m\u001b[0m\n\u001b[0;32m----> 1\u001b[0;31m \u001b[0mengine\u001b[0m\u001b[0;34m.\u001b[0m\u001b[0mexecute\u001b[0m\u001b[0;34m(\u001b[0m\u001b[0mq\u001b[0m\u001b[0;34m,\u001b[0m \u001b[0mnum\u001b[0m\u001b[0;34m=\u001b[0m\u001b[0;34m'2; select * from andys_cookies;'\u001b[0m\u001b[0;34m)\u001b[0m\u001b[0;34m.\u001b[0m\u001b[0mfetchall\u001b[0m\u001b[0;34m(\u001b[0m\u001b[0;34m)\u001b[0m\u001b[0;34m\u001b[0m\u001b[0;34m\u001b[0m\u001b[0m\n\u001b[0m",
      "\u001b[0;32m~/opt/miniconda3/envs/musa509week6/lib/python3.8/site-packages/sqlalchemy/engine/base.py\u001b[0m in \u001b[0;36mexecute\u001b[0;34m(self, statement, *multiparams, **params)\u001b[0m\n\u001b[1;32m   2235\u001b[0m \u001b[0;34m\u001b[0m\u001b[0m\n\u001b[1;32m   2236\u001b[0m         \u001b[0mconnection\u001b[0m \u001b[0;34m=\u001b[0m \u001b[0mself\u001b[0m\u001b[0;34m.\u001b[0m\u001b[0m_contextual_connect\u001b[0m\u001b[0;34m(\u001b[0m\u001b[0mclose_with_result\u001b[0m\u001b[0;34m=\u001b[0m\u001b[0;32mTrue\u001b[0m\u001b[0;34m)\u001b[0m\u001b[0;34m\u001b[0m\u001b[0;34m\u001b[0m\u001b[0m\n\u001b[0;32m-> 2237\u001b[0;31m         \u001b[0;32mreturn\u001b[0m \u001b[0mconnection\u001b[0m\u001b[0;34m.\u001b[0m\u001b[0mexecute\u001b[0m\u001b[0;34m(\u001b[0m\u001b[0mstatement\u001b[0m\u001b[0;34m,\u001b[0m \u001b[0;34m*\u001b[0m\u001b[0mmultiparams\u001b[0m\u001b[0;34m,\u001b[0m \u001b[0;34m**\u001b[0m\u001b[0mparams\u001b[0m\u001b[0;34m)\u001b[0m\u001b[0;34m\u001b[0m\u001b[0;34m\u001b[0m\u001b[0m\n\u001b[0m\u001b[1;32m   2238\u001b[0m \u001b[0;34m\u001b[0m\u001b[0m\n\u001b[1;32m   2239\u001b[0m     \u001b[0;32mdef\u001b[0m \u001b[0mscalar\u001b[0m\u001b[0;34m(\u001b[0m\u001b[0mself\u001b[0m\u001b[0;34m,\u001b[0m \u001b[0mstatement\u001b[0m\u001b[0;34m,\u001b[0m \u001b[0;34m*\u001b[0m\u001b[0mmultiparams\u001b[0m\u001b[0;34m,\u001b[0m \u001b[0;34m**\u001b[0m\u001b[0mparams\u001b[0m\u001b[0;34m)\u001b[0m\u001b[0;34m:\u001b[0m\u001b[0;34m\u001b[0m\u001b[0;34m\u001b[0m\u001b[0m\n",
      "\u001b[0;32m~/opt/miniconda3/envs/musa509week6/lib/python3.8/site-packages/sqlalchemy/engine/base.py\u001b[0m in \u001b[0;36mexecute\u001b[0;34m(self, object_, *multiparams, **params)\u001b[0m\n\u001b[1;32m   1009\u001b[0m             )\n\u001b[1;32m   1010\u001b[0m         \u001b[0;32melse\u001b[0m\u001b[0;34m:\u001b[0m\u001b[0;34m\u001b[0m\u001b[0;34m\u001b[0m\u001b[0m\n\u001b[0;32m-> 1011\u001b[0;31m             \u001b[0;32mreturn\u001b[0m \u001b[0mmeth\u001b[0m\u001b[0;34m(\u001b[0m\u001b[0mself\u001b[0m\u001b[0;34m,\u001b[0m \u001b[0mmultiparams\u001b[0m\u001b[0;34m,\u001b[0m \u001b[0mparams\u001b[0m\u001b[0;34m)\u001b[0m\u001b[0;34m\u001b[0m\u001b[0;34m\u001b[0m\u001b[0m\n\u001b[0m\u001b[1;32m   1012\u001b[0m \u001b[0;34m\u001b[0m\u001b[0m\n\u001b[1;32m   1013\u001b[0m     \u001b[0;32mdef\u001b[0m \u001b[0m_execute_function\u001b[0m\u001b[0;34m(\u001b[0m\u001b[0mself\u001b[0m\u001b[0;34m,\u001b[0m \u001b[0mfunc\u001b[0m\u001b[0;34m,\u001b[0m \u001b[0mmultiparams\u001b[0m\u001b[0;34m,\u001b[0m \u001b[0mparams\u001b[0m\u001b[0;34m)\u001b[0m\u001b[0;34m:\u001b[0m\u001b[0;34m\u001b[0m\u001b[0;34m\u001b[0m\u001b[0m\n",
      "\u001b[0;32m~/opt/miniconda3/envs/musa509week6/lib/python3.8/site-packages/sqlalchemy/sql/elements.py\u001b[0m in \u001b[0;36m_execute_on_connection\u001b[0;34m(self, connection, multiparams, params)\u001b[0m\n\u001b[1;32m    296\u001b[0m     \u001b[0;32mdef\u001b[0m \u001b[0m_execute_on_connection\u001b[0m\u001b[0;34m(\u001b[0m\u001b[0mself\u001b[0m\u001b[0;34m,\u001b[0m \u001b[0mconnection\u001b[0m\u001b[0;34m,\u001b[0m \u001b[0mmultiparams\u001b[0m\u001b[0;34m,\u001b[0m \u001b[0mparams\u001b[0m\u001b[0;34m)\u001b[0m\u001b[0;34m:\u001b[0m\u001b[0;34m\u001b[0m\u001b[0;34m\u001b[0m\u001b[0m\n\u001b[1;32m    297\u001b[0m         \u001b[0;32mif\u001b[0m \u001b[0mself\u001b[0m\u001b[0;34m.\u001b[0m\u001b[0msupports_execution\u001b[0m\u001b[0;34m:\u001b[0m\u001b[0;34m\u001b[0m\u001b[0;34m\u001b[0m\u001b[0m\n\u001b[0;32m--> 298\u001b[0;31m             \u001b[0;32mreturn\u001b[0m \u001b[0mconnection\u001b[0m\u001b[0;34m.\u001b[0m\u001b[0m_execute_clauseelement\u001b[0m\u001b[0;34m(\u001b[0m\u001b[0mself\u001b[0m\u001b[0;34m,\u001b[0m \u001b[0mmultiparams\u001b[0m\u001b[0;34m,\u001b[0m \u001b[0mparams\u001b[0m\u001b[0;34m)\u001b[0m\u001b[0;34m\u001b[0m\u001b[0;34m\u001b[0m\u001b[0m\n\u001b[0m\u001b[1;32m    299\u001b[0m         \u001b[0;32melse\u001b[0m\u001b[0;34m:\u001b[0m\u001b[0;34m\u001b[0m\u001b[0;34m\u001b[0m\u001b[0m\n\u001b[1;32m    300\u001b[0m             \u001b[0;32mraise\u001b[0m \u001b[0mexc\u001b[0m\u001b[0;34m.\u001b[0m\u001b[0mObjectNotExecutableError\u001b[0m\u001b[0;34m(\u001b[0m\u001b[0mself\u001b[0m\u001b[0;34m)\u001b[0m\u001b[0;34m\u001b[0m\u001b[0;34m\u001b[0m\u001b[0m\n",
      "\u001b[0;32m~/opt/miniconda3/envs/musa509week6/lib/python3.8/site-packages/sqlalchemy/engine/base.py\u001b[0m in \u001b[0;36m_execute_clauseelement\u001b[0;34m(self, elem, multiparams, params)\u001b[0m\n\u001b[1;32m   1122\u001b[0m             )\n\u001b[1;32m   1123\u001b[0m \u001b[0;34m\u001b[0m\u001b[0m\n\u001b[0;32m-> 1124\u001b[0;31m         ret = self._execute_context(\n\u001b[0m\u001b[1;32m   1125\u001b[0m             \u001b[0mdialect\u001b[0m\u001b[0;34m,\u001b[0m\u001b[0;34m\u001b[0m\u001b[0;34m\u001b[0m\u001b[0m\n\u001b[1;32m   1126\u001b[0m             \u001b[0mdialect\u001b[0m\u001b[0;34m.\u001b[0m\u001b[0mexecution_ctx_cls\u001b[0m\u001b[0;34m.\u001b[0m\u001b[0m_init_compiled\u001b[0m\u001b[0;34m,\u001b[0m\u001b[0;34m\u001b[0m\u001b[0;34m\u001b[0m\u001b[0m\n",
      "\u001b[0;32m~/opt/miniconda3/envs/musa509week6/lib/python3.8/site-packages/sqlalchemy/engine/base.py\u001b[0m in \u001b[0;36m_execute_context\u001b[0;34m(self, dialect, constructor, statement, parameters, *args)\u001b[0m\n\u001b[1;32m   1314\u001b[0m \u001b[0;34m\u001b[0m\u001b[0m\n\u001b[1;32m   1315\u001b[0m         \u001b[0;32mexcept\u001b[0m \u001b[0mBaseException\u001b[0m \u001b[0;32mas\u001b[0m \u001b[0me\u001b[0m\u001b[0;34m:\u001b[0m\u001b[0;34m\u001b[0m\u001b[0;34m\u001b[0m\u001b[0m\n\u001b[0;32m-> 1316\u001b[0;31m             self._handle_dbapi_exception(\n\u001b[0m\u001b[1;32m   1317\u001b[0m                 \u001b[0me\u001b[0m\u001b[0;34m,\u001b[0m \u001b[0mstatement\u001b[0m\u001b[0;34m,\u001b[0m \u001b[0mparameters\u001b[0m\u001b[0;34m,\u001b[0m \u001b[0mcursor\u001b[0m\u001b[0;34m,\u001b[0m \u001b[0mcontext\u001b[0m\u001b[0;34m\u001b[0m\u001b[0;34m\u001b[0m\u001b[0m\n\u001b[1;32m   1318\u001b[0m             )\n",
      "\u001b[0;32m~/opt/miniconda3/envs/musa509week6/lib/python3.8/site-packages/sqlalchemy/engine/base.py\u001b[0m in \u001b[0;36m_handle_dbapi_exception\u001b[0;34m(self, e, statement, parameters, cursor, context)\u001b[0m\n\u001b[1;32m   1508\u001b[0m                 \u001b[0mutil\u001b[0m\u001b[0;34m.\u001b[0m\u001b[0mraise_\u001b[0m\u001b[0;34m(\u001b[0m\u001b[0mnewraise\u001b[0m\u001b[0;34m,\u001b[0m \u001b[0mwith_traceback\u001b[0m\u001b[0;34m=\u001b[0m\u001b[0mexc_info\u001b[0m\u001b[0;34m[\u001b[0m\u001b[0;36m2\u001b[0m\u001b[0;34m]\u001b[0m\u001b[0;34m,\u001b[0m \u001b[0mfrom_\u001b[0m\u001b[0;34m=\u001b[0m\u001b[0me\u001b[0m\u001b[0;34m)\u001b[0m\u001b[0;34m\u001b[0m\u001b[0;34m\u001b[0m\u001b[0m\n\u001b[1;32m   1509\u001b[0m             \u001b[0;32melif\u001b[0m \u001b[0mshould_wrap\u001b[0m\u001b[0;34m:\u001b[0m\u001b[0;34m\u001b[0m\u001b[0;34m\u001b[0m\u001b[0m\n\u001b[0;32m-> 1510\u001b[0;31m                 util.raise_(\n\u001b[0m\u001b[1;32m   1511\u001b[0m                     \u001b[0msqlalchemy_exception\u001b[0m\u001b[0;34m,\u001b[0m \u001b[0mwith_traceback\u001b[0m\u001b[0;34m=\u001b[0m\u001b[0mexc_info\u001b[0m\u001b[0;34m[\u001b[0m\u001b[0;36m2\u001b[0m\u001b[0;34m]\u001b[0m\u001b[0;34m,\u001b[0m \u001b[0mfrom_\u001b[0m\u001b[0;34m=\u001b[0m\u001b[0me\u001b[0m\u001b[0;34m\u001b[0m\u001b[0;34m\u001b[0m\u001b[0m\n\u001b[1;32m   1512\u001b[0m                 )\n",
      "\u001b[0;32m~/opt/miniconda3/envs/musa509week6/lib/python3.8/site-packages/sqlalchemy/util/compat.py\u001b[0m in \u001b[0;36mraise_\u001b[0;34m(***failed resolving arguments***)\u001b[0m\n\u001b[1;32m    180\u001b[0m \u001b[0;34m\u001b[0m\u001b[0m\n\u001b[1;32m    181\u001b[0m         \u001b[0;32mtry\u001b[0m\u001b[0;34m:\u001b[0m\u001b[0;34m\u001b[0m\u001b[0;34m\u001b[0m\u001b[0m\n\u001b[0;32m--> 182\u001b[0;31m             \u001b[0;32mraise\u001b[0m \u001b[0mexception\u001b[0m\u001b[0;34m\u001b[0m\u001b[0;34m\u001b[0m\u001b[0m\n\u001b[0m\u001b[1;32m    183\u001b[0m         \u001b[0;32mfinally\u001b[0m\u001b[0;34m:\u001b[0m\u001b[0;34m\u001b[0m\u001b[0;34m\u001b[0m\u001b[0m\n\u001b[1;32m    184\u001b[0m             \u001b[0;31m# credit to\u001b[0m\u001b[0;34m\u001b[0m\u001b[0;34m\u001b[0m\u001b[0;34m\u001b[0m\u001b[0m\n",
      "\u001b[0;32m~/opt/miniconda3/envs/musa509week6/lib/python3.8/site-packages/sqlalchemy/engine/base.py\u001b[0m in \u001b[0;36m_execute_context\u001b[0;34m(self, dialect, constructor, statement, parameters, *args)\u001b[0m\n\u001b[1;32m   1274\u001b[0m                             \u001b[0;32mbreak\u001b[0m\u001b[0;34m\u001b[0m\u001b[0;34m\u001b[0m\u001b[0m\n\u001b[1;32m   1275\u001b[0m                 \u001b[0;32mif\u001b[0m \u001b[0;32mnot\u001b[0m \u001b[0mevt_handled\u001b[0m\u001b[0;34m:\u001b[0m\u001b[0;34m\u001b[0m\u001b[0;34m\u001b[0m\u001b[0m\n\u001b[0;32m-> 1276\u001b[0;31m                     self.dialect.do_execute(\n\u001b[0m\u001b[1;32m   1277\u001b[0m                         \u001b[0mcursor\u001b[0m\u001b[0;34m,\u001b[0m \u001b[0mstatement\u001b[0m\u001b[0;34m,\u001b[0m \u001b[0mparameters\u001b[0m\u001b[0;34m,\u001b[0m \u001b[0mcontext\u001b[0m\u001b[0;34m\u001b[0m\u001b[0;34m\u001b[0m\u001b[0m\n\u001b[1;32m   1278\u001b[0m                     )\n",
      "\u001b[0;32m~/opt/miniconda3/envs/musa509week6/lib/python3.8/site-packages/sqlalchemy/engine/default.py\u001b[0m in \u001b[0;36mdo_execute\u001b[0;34m(self, cursor, statement, parameters, context)\u001b[0m\n\u001b[1;32m    591\u001b[0m \u001b[0;34m\u001b[0m\u001b[0m\n\u001b[1;32m    592\u001b[0m     \u001b[0;32mdef\u001b[0m \u001b[0mdo_execute\u001b[0m\u001b[0;34m(\u001b[0m\u001b[0mself\u001b[0m\u001b[0;34m,\u001b[0m \u001b[0mcursor\u001b[0m\u001b[0;34m,\u001b[0m \u001b[0mstatement\u001b[0m\u001b[0;34m,\u001b[0m \u001b[0mparameters\u001b[0m\u001b[0;34m,\u001b[0m \u001b[0mcontext\u001b[0m\u001b[0;34m=\u001b[0m\u001b[0;32mNone\u001b[0m\u001b[0;34m)\u001b[0m\u001b[0;34m:\u001b[0m\u001b[0;34m\u001b[0m\u001b[0;34m\u001b[0m\u001b[0m\n\u001b[0;32m--> 593\u001b[0;31m         \u001b[0mcursor\u001b[0m\u001b[0;34m.\u001b[0m\u001b[0mexecute\u001b[0m\u001b[0;34m(\u001b[0m\u001b[0mstatement\u001b[0m\u001b[0;34m,\u001b[0m \u001b[0mparameters\u001b[0m\u001b[0;34m)\u001b[0m\u001b[0;34m\u001b[0m\u001b[0;34m\u001b[0m\u001b[0m\n\u001b[0m\u001b[1;32m    594\u001b[0m \u001b[0;34m\u001b[0m\u001b[0m\n\u001b[1;32m    595\u001b[0m     \u001b[0;32mdef\u001b[0m \u001b[0mdo_execute_no_params\u001b[0m\u001b[0;34m(\u001b[0m\u001b[0mself\u001b[0m\u001b[0;34m,\u001b[0m \u001b[0mcursor\u001b[0m\u001b[0;34m,\u001b[0m \u001b[0mstatement\u001b[0m\u001b[0;34m,\u001b[0m \u001b[0mcontext\u001b[0m\u001b[0;34m=\u001b[0m\u001b[0;32mNone\u001b[0m\u001b[0;34m)\u001b[0m\u001b[0;34m:\u001b[0m\u001b[0;34m\u001b[0m\u001b[0;34m\u001b[0m\u001b[0m\n",
      "\u001b[0;31mDataError\u001b[0m: (psycopg2.errors.InvalidTextRepresentation) invalid input syntax for type bigint: \"2; select * from andys_cookies;\"\nLINE 1: ..., docksavailable FROM indego_station_status LIMIT '2; select...\n                                                             ^\n\n[SQL: SELECT name, totaldocks, docksavailable FROM indego_station_status LIMIT %(num)s]\n[parameters: {'num': '2; select * from andys_cookies;'}]\n(Background on this error at: http://sqlalche.me/e/13/9h9h)"
     ]
    }
   ],
   "source": [
    "engine.execute(q, num='2; select * from andys_cookies;').fetchall()"
   ]
  },
  {
   "cell_type": "markdown",
   "metadata": {},
   "source": [
    "Good news :) SQLAlchemy saved us!"
   ]
  },
  {
   "cell_type": "markdown",
   "metadata": {},
   "source": [
    "### If we templated the string using Python string functions..."
   ]
  },
  {
   "cell_type": "code",
   "execution_count": null,
   "metadata": {},
   "outputs": [],
   "source": [
    "q = f\"\"\"\n",
    "SELECT a, b, c FROM (\n",
    "  {subquery}\n",
    ") as w\n",
    "JOIN b\n",
    "ON b.blah = c.a\n",
    "\"\"\""
   ]
  },
  {
   "cell_type": "code",
   "execution_count": 29,
   "metadata": {},
   "outputs": [
    {
     "name": "stdout",
     "output_type": "stream",
     "text": [
      "SELECT * FROM indego_station_status LIMIT 2; SELECT * FROM andys_cookies;\n"
     ]
    }
   ],
   "source": [
    "# DON'T DO THIS\n",
    "qtext = \"SELECT * FROM indego_station_status LIMIT {num}\"\n",
    "\n",
    "num = '2; SELECT * FROM andys_cookies;'\n",
    "print(qtext.format(num=num))"
   ]
  },
  {
   "cell_type": "markdown",
   "metadata": {},
   "source": [
    "**Uh oh**. Notice that another query was 'injected' into our templated query without proper quotes.\n",
    "\n",
    "Let's execute it to see what happens..."
   ]
  },
  {
   "cell_type": "code",
   "execution_count": 28,
   "metadata": {},
   "outputs": [
    {
     "data": {
      "text/plain": [
       "[('peanut butter', 10), ('pecan', 20), ('chocolate fudge', 5)]"
      ]
     },
     "execution_count": 28,
     "metadata": {},
     "output_type": "execute_result"
    }
   ],
   "source": [
    "engine.execute(qtext.format(num=num)).fetchall()"
   ]
  },
  {
   "cell_type": "markdown",
   "metadata": {},
   "source": [
    "My cookie table was hacked!"
   ]
  },
  {
   "cell_type": "markdown",
   "metadata": {},
   "source": [
    "### Aside... creating a table from nothing\n",
    "\n",
    "We'll discuss operations like this in the coming weeks, but I created that cookie table with this query:\n",
    "\n",
    "```SQL\n",
    "CREATE TABLE andys_cookies AS\n",
    "SELECT cookie_type, quantity \n",
    "FROM (\n",
    "\tVALUES ('peanut butter', 10), \n",
    "\t       ('pecan', 20),\n",
    "\t       ('chocolate fudge', 5)\n",
    ") AS c(cookie_type, quantity)\n",
    "```"
   ]
  },
  {
   "cell_type": "markdown",
   "metadata": {},
   "source": [
    "## 1. More Templating Asking Questions"
   ]
  },
  {
   "cell_type": "code",
   "execution_count": 34,
   "metadata": {},
   "outputs": [],
   "source": [
    "# NOTE: the dataset originally had capitals in the names, so we need to quote the column names here\n",
    "def fetch_five_vacant_buildings():\n",
    "    query = text(\"\"\"\n",
    "        SELECT \"ADDRESS\", \"BLDG_DESC\", \"ZIPCODE\", \"BUILD_RANK\"\n",
    "        FROM vacant_buildings\n",
    "        LIMIT 5\n",
    "    \"\"\")\n",
    "    return engine.execute(query).fetchall()"
   ]
  },
  {
   "cell_type": "code",
   "execution_count": 35,
   "metadata": {},
   "outputs": [
    {
     "data": {
      "text/plain": [
       "[('3338 N WATER ST', 'ROW 2 STY MASONRY', '19134', 0.67),\n",
       " ('211 E LOUDON ST', 'SEMI DET 2 STY MASONRY', '19120', 0.67),\n",
       " ('2632 N 6TH ST', 'ROW 2 STY MASONRY', '19133', 0.5),\n",
       " ('5815 NORFOLK ST', 'ROW 2 STY MASONRY', '19143', 0.67),\n",
       " ('6427 N WOODSTOCK ST', 'ROW 2 STY MASONRY', '19138', 0.5)]"
      ]
     },
     "execution_count": 35,
     "metadata": {},
     "output_type": "execute_result"
    }
   ],
   "source": [
    "fetch_five_vacant_buildings()"
   ]
  },
  {
   "cell_type": "markdown",
   "metadata": {},
   "source": [
    "### 1.1 What are the five closest vacant buildings to Meyerson Hall?\n",
    "\n",
    "Meyerson Hall has a lat/lng of `(39.952263,-75.1927827)`"
   ]
  },
  {
   "cell_type": "code",
   "execution_count": 36,
   "metadata": {},
   "outputs": [],
   "source": [
    "def vacants_close_to_meyerson_hall(num_buildings=5):\n",
    "    query = text(\"\"\"\n",
    "        SELECT \"ADDRESS\", geom\n",
    "        FROM vacant_buildings\n",
    "        ORDER BY ST_SetSRID(ST_MakePoint(-75.1927827, 39.952263), 4326) <-> geom\n",
    "        LIMIT 5\n",
    "    \"\"\")\n",
    "    return engine.execute(query).fetchall()"
   ]
  },
  {
   "cell_type": "code",
   "execution_count": 37,
   "metadata": {},
   "outputs": [
    {
     "data": {
      "text/plain": [
       "[('451 UNIVERSITY AVE', '0103000020E6100000010000000900000080A34FD2A4CC52C0375397F65EF943406BC1F025AACC52C0271CFD105AF94340C7067D49ADCC52C084B78F8B57F9434026E2E4F5B1CC52C0B2F ... (24 characters truncated) ... C52C0B80A55F552F943408CCB7E62B6CC52C00979AC4F55F94340CE6107FAB7CC52C03537C76B5CF943408571ECE6A8CC52C033CB52A969F9434080A34FD2A4CC52C0375397F65EF94340'),\n",
       " ('3631 WARREN ST', '0103000020E610000001000000050000001E0C7BC772CC52C0E1ADCFD0B0FA4340A91C026C75CC52C05139D8D7AAFA43401998E02176CC52C0FAFFB492ABFA43403619457973CC52C0070F868DB1FA43401E0C7BC772CC52C0E1ADCFD0B0FA4340'),\n",
       " ('201 N 36TH ST', '0103000020E610000001000000050000007F0423075CCC52C0359D4112BAFA4340EA76CAEB61CC52C005309EC5B9FA4340DA39D01162CC52C071B71C5DBBFA4340220B1B3A5CCC52C0E5BE9238BCFA43407F0423075CCC52C0359D4112BAFA4340'),\n",
       " ('3501-15 POWELTON AVE', '0103000020E610000001000000080000005187EF6155CC52C0798A155FF5FA4340E67E0AB054CC52C090615493E5FA43403147EFA965CC52C010503DDCE1FA43404AC05E2267CC52C0E6C40A8FF1FA4340D7B97D2467CC52C06179B7A5F1FA4340E23DFD885ECC52C0E337E596F3FA434042A1396455CC52C01FD84E92F5FA43405187EF6155CC52C0798A155FF5FA4340'),\n",
       " ('3922 SPRUCE ST', '0103000020E61000000100000006000000E01CB892EBCC52C0EB05FA3DCAF94340CFAB2804EDCC52C0AB8DE346BDF94340CB3D6A0EEECC52C0CBB53389BDF9434026C6C417EECC52C08639848BBDF94340BF64D3B0ECCC52C02AE4D589CAF94340E01CB892EBCC52C0EB05FA3DCAF94340')]"
      ]
     },
     "execution_count": 37,
     "metadata": {},
     "output_type": "execute_result"
    }
   ],
   "source": [
    "vacants_close_to_meyerson_hall()"
   ]
  },
  {
   "cell_type": "markdown",
   "metadata": {},
   "source": [
    "### 1.2 What are the largest vacant buildings by zip code?"
   ]
  },
  {
   "cell_type": "code",
   "execution_count": 42,
   "metadata": {},
   "outputs": [],
   "source": [
    "def vacants_close_to_meyerson_hall(zip_code):\n",
    "    query = text(\"\"\"\n",
    "        SELECT \"ADDRESS\", \"BLDG_DESC\", \"Shape__Area\" as area_sq_m\n",
    "        FROM vacant_buildings\n",
    "        WHERE \"ZIPCODE\" = :zip_code\n",
    "        ORDER BY \"Shape__Area\" DESC\n",
    "        LIMIT 5\n",
    "    \"\"\")\n",
    "    return engine.execute(query, zip_code=zip_code).fetchall()"
   ]
  },
  {
   "cell_type": "code",
   "execution_count": 43,
   "metadata": {},
   "outputs": [
    {
     "data": {
      "text/plain": [
       "[('3501-15 POWELTON AVE', 'SCHOOL 2STY MASONRY', 8445.4921875),\n",
       " ('451 UNIVERSITY AVE', 'HEALTH FAC.CLINIC MAS+OTH', 6492.78125),\n",
       " ('4445 W GIRARD AVE', 'IND.WHSE MASONRY', 3541.0),\n",
       " ('609-11 N 43RD ST', 'APTS  5-50 UNTS MASONRY', 2472.19140625),\n",
       " ('905 N 41ST ST', 'APT.BOARDING HOME MASONRY', 2460.83984375)]"
      ]
     },
     "execution_count": 43,
     "metadata": {},
     "output_type": "execute_result"
    }
   ],
   "source": [
    "vacants_close_to_meyerson_hall(\"19104\")"
   ]
  },
  {
   "cell_type": "markdown",
   "metadata": {},
   "source": [
    "## 2. Give all vacant buildings in a neighborhood\n",
    "\n",
    "### 2.1 Data"
   ]
  },
  {
   "cell_type": "markdown",
   "metadata": {},
   "source": [
    "We have a neighborhood table"
   ]
  },
  {
   "cell_type": "code",
   "execution_count": null,
   "metadata": {},
   "outputs": [],
   "source": [
    "resp = engine.execute(\"SELECT neighborhood_name, ST_AsText(geom)  FROM philadelphia_neighborhoods LIMIT 1\").fetchall()\n",
    "resp"
   ]
  },
  {
   "cell_type": "markdown",
   "metadata": {},
   "source": [
    "### 2.2 Build a function that takes a neighborhood name and returns all vacant buildings in it"
   ]
  },
  {
   "cell_type": "code",
   "execution_count": 8,
   "metadata": {},
   "outputs": [],
   "source": [
    "from sqlalchemy.sql import text"
   ]
  },
  {
   "cell_type": "code",
   "execution_count": 9,
   "metadata": {},
   "outputs": [],
   "source": [
    "def vacant_buildings_by_neighborhood(name):\n",
    "    query = text(\"\"\"\n",
    "    SELECT n.neighborhood_name, b.\"ADDRESS\", b.\"BLDG_DESC\"\n",
    "    FROM philadelphia_neighborhoods as n\n",
    "    JOIN vacant_buildings as b\n",
    "    ON ST_Intersects(n.geom, b.geom)\n",
    "    WHERE neighborhood_name = :name\n",
    "    \"\"\")\n",
    "    return engine.execute(query, name=name).fetchall()"
   ]
  },
  {
   "cell_type": "code",
   "execution_count": 11,
   "metadata": {},
   "outputs": [
    {
     "data": {
      "text/plain": [
       "[('University City', '4060 CHESTNUT ST', 'APTS  5-50 UNTS MASONRY'),\n",
       " ('University City', '4043 LUDLOW ST', 'ROW 3 STY MASONRY'),\n",
       " ('University City', '3631 WARREN ST', 'ROW 3 STY MASONRY'),\n",
       " ('University City', '451 UNIVERSITY AVE', 'HEALTH FAC.CLINIC MAS+OTH'),\n",
       " ('University City', '3922 SPRUCE ST', 'ROW 3 STY MASONRY')]"
      ]
     },
     "execution_count": 11,
     "metadata": {},
     "output_type": "execute_result"
    }
   ],
   "source": [
    "vacant_buildings_by_neighborhood(\"University City\")"
   ]
  },
  {
   "cell_type": "markdown",
   "metadata": {},
   "source": [
    "### 2.3 Let's Validate Inputs!\n",
    "\n",
    "Validating inputs helps guide users if they make a mistake."
   ]
  },
  {
   "cell_type": "code",
   "execution_count": 47,
   "metadata": {},
   "outputs": [],
   "source": [
    "def is_valid_neighborhood_name(input_name):\n",
    "    query = text(\"\"\"\n",
    "        SELECT neighborhood_name \n",
    "        FROM philadelphia_neighborhoods\n",
    "        WHERE neighborhood_name = :input_name\n",
    "    \"\"\")\n",
    "\n",
    "    resp = engine.execute(query, input_name=input_name)\n",
    "    if resp.rowcount > 0:\n",
    "        return True\n",
    "    return False"
   ]
  },
  {
   "cell_type": "code",
   "execution_count": 48,
   "metadata": {},
   "outputs": [
    {
     "data": {
      "text/plain": [
       "False"
      ]
     },
     "execution_count": 48,
     "metadata": {},
     "output_type": "execute_result"
    }
   ],
   "source": [
    "is_valid_neighborhood_name(\"Andy\")"
   ]
  },
  {
   "cell_type": "code",
   "execution_count": 49,
   "metadata": {},
   "outputs": [
    {
     "data": {
      "text/plain": [
       "True"
      ]
     },
     "execution_count": 49,
     "metadata": {},
     "output_type": "execute_result"
    }
   ],
   "source": [
    "is_valid_neighborhood_name(\"Strawberry Mansion\")"
   ]
  },
  {
   "cell_type": "code",
   "execution_count": 51,
   "metadata": {},
   "outputs": [],
   "source": [
    "def get_vacant_buildings(neighborhood_name):\n",
    "    if not is_valid_neighborhood_name(neighborhood_name):\n",
    "        raise ValueError(f\"'{neighborhood_name}' is not a valid neighborhood name\")\n",
    "    result = vacant_buildings_by_neighborhood(neighborhood_name)\n",
    "    return result"
   ]
  },
  {
   "cell_type": "code",
   "execution_count": 52,
   "metadata": {},
   "outputs": [
    {
     "ename": "ValueError",
     "evalue": "'Andy' is not a valid neighborhood name",
     "output_type": "error",
     "traceback": [
      "\u001b[0;31m---------------------------------------------------------------------------\u001b[0m",
      "\u001b[0;31mValueError\u001b[0m                                Traceback (most recent call last)",
      "\u001b[0;32m<ipython-input-52-35b31b88cd20>\u001b[0m in \u001b[0;36m<module>\u001b[0;34m\u001b[0m\n\u001b[0;32m----> 1\u001b[0;31m \u001b[0mget_vacant_buildings\u001b[0m\u001b[0;34m(\u001b[0m\u001b[0;34m\"Andy\"\u001b[0m\u001b[0;34m)\u001b[0m\u001b[0;34m\u001b[0m\u001b[0;34m\u001b[0m\u001b[0m\n\u001b[0m",
      "\u001b[0;32m<ipython-input-51-a498272dc2f9>\u001b[0m in \u001b[0;36mget_vacant_buildings\u001b[0;34m(neighborhood_name)\u001b[0m\n\u001b[1;32m      1\u001b[0m \u001b[0;32mdef\u001b[0m \u001b[0mget_vacant_buildings\u001b[0m\u001b[0;34m(\u001b[0m\u001b[0mneighborhood_name\u001b[0m\u001b[0;34m)\u001b[0m\u001b[0;34m:\u001b[0m\u001b[0;34m\u001b[0m\u001b[0;34m\u001b[0m\u001b[0m\n\u001b[1;32m      2\u001b[0m     \u001b[0;32mif\u001b[0m \u001b[0;32mnot\u001b[0m \u001b[0mis_valid_neighborhood_name\u001b[0m\u001b[0;34m(\u001b[0m\u001b[0mneighborhood_name\u001b[0m\u001b[0;34m)\u001b[0m\u001b[0;34m:\u001b[0m\u001b[0;34m\u001b[0m\u001b[0;34m\u001b[0m\u001b[0m\n\u001b[0;32m----> 3\u001b[0;31m         \u001b[0;32mraise\u001b[0m \u001b[0mValueError\u001b[0m\u001b[0;34m(\u001b[0m\u001b[0;34mf\"'{neighborhood_name}' is not a valid neighborhood name\"\u001b[0m\u001b[0;34m)\u001b[0m\u001b[0;34m\u001b[0m\u001b[0;34m\u001b[0m\u001b[0m\n\u001b[0m\u001b[1;32m      4\u001b[0m     \u001b[0mresult\u001b[0m \u001b[0;34m=\u001b[0m \u001b[0mvacant_buildings_by_neighborhood\u001b[0m\u001b[0;34m(\u001b[0m\u001b[0mneighborhood_name\u001b[0m\u001b[0;34m)\u001b[0m\u001b[0;34m\u001b[0m\u001b[0;34m\u001b[0m\u001b[0m\n\u001b[1;32m      5\u001b[0m     \u001b[0;32mreturn\u001b[0m \u001b[0mresult\u001b[0m\u001b[0;34m\u001b[0m\u001b[0;34m\u001b[0m\u001b[0m\n",
      "\u001b[0;31mValueError\u001b[0m: 'Andy' is not a valid neighborhood name"
     ]
    }
   ],
   "source": [
    "get_vacant_buildings(\"Andy\")"
   ]
  },
  {
   "cell_type": "markdown",
   "metadata": {},
   "source": [
    "### 2.4 But what are the valid names? Let's print them in the error message too.\n",
    "\n",
    "Write a function to return the names of the neighborhoods"
   ]
  },
  {
   "cell_type": "code",
   "execution_count": null,
   "metadata": {},
   "outputs": [],
   "source": [
    "def list_neighborhood_names():\n",
    "    \"\"\"Retrieve all neighborhood names, return as a list\"\"\"\n",
    "    query = text(\"\"\"\n",
    "    --- put your query here\n",
    "    \"\"\")\n",
    "    # place your code here"
   ]
  },
  {
   "cell_type": "markdown",
   "metadata": {},
   "source": [
    "Return should look like: \n",
    "```\n",
    "['ACADEMY_GARDENS',\n",
    " 'AIRPORT',\n",
    " 'ALLEGHENY_WEST',\n",
    " 'ANDORRA',\n",
    " 'ASTON_WOODBRIDGE',\n",
    " 'BARTRAM_VILLAGE',\n",
    " ...\n",
    "```"
   ]
  },
  {
   "cell_type": "markdown",
   "metadata": {},
   "source": [
    "### Now we can use the results of the list function to give users some options"
   ]
  },
  {
   "cell_type": "code",
   "execution_count": null,
   "metadata": {},
   "outputs": [],
   "source": [
    "def get_vacant_buildings(neighborhood_name):\n",
    "    if not is_valid_neighborhood_name(neighborhood_name):\n",
    "        neighborhood_list = list_neighborhood_names()\n",
    "        raise ValueError(f\"'{neighborhood_name}' is not a valid neighborhood name. Choose one of {neighborhood_list}\")\n",
    "    pass"
   ]
  },
  {
   "cell_type": "code",
   "execution_count": null,
   "metadata": {},
   "outputs": [],
   "source": [
    "get_vacant_buildings(\"Andy\")"
   ]
  },
  {
   "cell_type": "markdown",
   "metadata": {},
   "source": [
    "## 3. Fetching data from BigQuery"
   ]
  },
  {
   "cell_type": "code",
   "execution_count": 12,
   "metadata": {},
   "outputs": [],
   "source": [
    "from google.cloud import bigquery\n",
    "import geopandas as gpd\n",
    "from shapely import wkt\n",
    "\n",
    "# NOTE: you need to setup a service account (or use another auth method)\n",
    "bqclient = bigquery.Client.from_service_account_json(\"MUSA-509-3337814ad805.json\")"
   ]
  },
  {
   "cell_type": "code",
   "execution_count": 13,
   "metadata": {},
   "outputs": [
    {
     "name": "stdout",
     "output_type": "stream",
     "text": [
      "parking           3734\n",
      "place_of_worship  1401\n",
      "school            1054\n",
      "restaurant        1033\n",
      "fast_food         602\n",
      "bench             554\n",
      "social_facility   408\n",
      "bank              273\n",
      "cafe              244\n",
      "fuel              244\n",
      "parking_entrance  202\n",
      "bar               192\n",
      "fire_station      185\n",
      "waste_basket      184\n",
      "pharmacy          181\n",
      "car_sharing       167\n",
      "bicycle_parking   160\n",
      "shelter           142\n",
      "library           122\n",
      "post_box          118\n",
      "post_office       113\n",
      "pub               88\n",
      "marketplace       87\n",
      "toilets           76\n",
      "fountain          69\n",
      "clinic            67\n",
      "community_centre  65\n",
      "theatre           64\n",
      "atm               63\n",
      "kindergarten      63\n",
      "police            62\n",
      "childcare         53\n",
      "university        48\n",
      "hospital          46\n",
      "bicycle_rental    44\n",
      "recycling         44\n",
      "grave_yard        37\n",
      "ice_cream         35\n",
      "college           33\n",
      "car_wash          33\n",
      "doctors           33\n",
      "dentist           32\n",
      "car_rental        31\n",
      "vending_machine   24\n",
      "cinema            23\n",
      "drinking_water    22\n",
      "waste_disposal    21\n",
      "loading_dock      20\n",
      "veterinary        17\n",
      "bus_station       17\n",
      "townhall          16\n",
      "public_bookcase   14\n",
      "arts_centre       13\n",
      "bicycle_repair_station 13\n",
      "courthouse        13\n",
      "prison            12\n",
      "studio            11\n",
      "nightclub         10\n",
      "swimming_pool     10\n",
      "food_court        8\n",
      "fraternity        7\n",
      "parking_space     6\n",
      "clock             6\n",
      "taxi              6\n",
      "prep_school       5\n",
      "monastery         5\n",
      "telephone         5\n",
      "compressed_air    5\n",
      "nursing_home      4\n",
      "events_venue      4\n",
      "bbq               4\n",
      "public_building   4\n",
      "dojo              4\n",
      "waste_transfer_station 3\n",
      "internet_cafe     3\n",
      "music_venue       3\n",
      "money_transfer    2\n",
      "gazebo            2\n",
      "animal_shelter    2\n",
      "stripclub         2\n",
      "ferry_terminal    2\n",
      "conference_centre 2\n",
      "motorcycle_parking 2\n",
      "letter_box        2\n",
      "language_school   1\n",
      "ranger_station    1\n",
      "casino            1\n",
      "gym               1\n",
      "charging_station  1\n",
      "animal_training   1\n",
      "trolley_bay       1\n",
      "bar;pub           1\n",
      "ice cream         1\n",
      "boat_rental       1\n",
      "waste_container   1\n",
      "coworking_space   1\n",
      "trailer_park      1\n",
      "disused           1\n",
      "public_bath       1\n",
      "music_school      1\n",
      "bureau_de_change  1\n",
      "soaicl_facility   1\n",
      "hobby_shop        1\n",
      "biergarten        1\n",
      "driving_school    1\n",
      "atm;pharmacy      1\n"
     ]
    }
   ],
   "source": [
    "from shapely import wkt\n",
    "\n",
    "query = f\"\"\"\n",
    "SELECT (select value from unnest(all_tags) WHERE key = 'amenity') as amenity_type,\n",
    "       COUNT(*) as num_amenities\n",
    "  FROM `bigquery-public-data.geo_openstreetmap.planet_features`\n",
    " WHERE 'amenity' IN (SELECT key FROM UNNEST(all_tags))\n",
    " AND ST_INTERSECTSBOX(ST_Centroid(geometry), -75.280298,39.867005,-74.955831,40.137959)\n",
    "GROUP BY 1\n",
    "ORDER BY 2 DESC\n",
    "\"\"\"\n",
    "response = bqclient.query(query)\n",
    "\n",
    "# print the rows\n",
    "for row in response:\n",
    "    print(row['amenity_type'].ljust(17), row['num_amenities'])"
   ]
  },
  {
   "cell_type": "markdown",
   "metadata": {},
   "source": [
    "* [Parameterize queries](https://cloud.google.com/bigquery/docs/parameterized-queries) to avoid SQL Injection\n",
    "\n",
    "BigQuery uses `@variable_name` notation for templating/parametrizing literals (strings, numbers, but not tables) in queries.\n",
    "\n",
    "It makes use of the `QueryJobConfig` object in Python: <https://googleapis.dev/python/bigquery/latest/generated/google.cloud.bigquery.job.QueryJobConfig.html>"
   ]
  },
  {
   "cell_type": "code",
   "execution_count": 19,
   "metadata": {},
   "outputs": [],
   "source": [
    "def get_nearest_amenity(lng, lat, distance, amenity_type=\"cafe\"):\n",
    "    job_config = bigquery.QueryJobConfig(\n",
    "        query_parameters=[\n",
    "            bigquery.ScalarQueryParameter(\"poi_category\", \"STRING\", amenity_type),\n",
    "            bigquery.ScalarQueryParameter(\"lng\", \"FLOAT\", lng),\n",
    "            bigquery.ScalarQueryParameter(\"lat\", \"FLOAT\", lat),\n",
    "            bigquery.ScalarQueryParameter(\"distance\", \"FLOAT\", distance)\n",
    "        ]\n",
    "    )\n",
    "    query = f\"\"\"\n",
    "        SELECT (select value from unnest(all_tags) WHERE key = 'name') as amenity_name, \n",
    "               (select value from unnest(all_tags) WHERE key = 'amenity') as amenity_type,\n",
    "               (select value from unnest(all_tags) WHERE key = 'addr:street') as address,\n",
    "               (select value from unnest(all_tags) WHERE key = 'phone') as phone_number,\n",
    "               CAST(round(ST_Distance(ST_GeogPoint(@lng, @lat), ST_Centroid(geometry))) AS int64) as distance_away_meters,\n",
    "               geometry\n",
    "          FROM `bigquery-public-data.geo_openstreetmap.planet_features`\n",
    "         WHERE ('amenity', @poi_category) IN (SELECT (key, value) FROM UNNEST(all_tags))\n",
    "         and ST_DWithin(ST_GeogPoint(@lng, @lat), ST_Centroid(geometry), @distance)\n",
    "         ORDER BY distance_away_meters ASC\n",
    "    \"\"\"\n",
    "    response = bqclient.query(query, job_config=job_config)\n",
    "    return response.result()"
   ]
  },
  {
   "cell_type": "code",
   "execution_count": 20,
   "metadata": {},
   "outputs": [],
   "source": [
    "meyerson_lnglat = (-75.1927795, 39.9522139)\n",
    "response = get_nearest_amenity(meyerson_lnglat[0], meyerson_lnglat[1], 1000, 'cafe')"
   ]
  },
  {
   "cell_type": "code",
   "execution_count": 21,
   "metadata": {},
   "outputs": [
    {
     "name": "stdout",
     "output_type": "stream",
     "text": [
      "Starbucks is 98 meters away on Walnut Street\n",
      "\n",
      "United By Blue is 102 meters away on Walnut Street\n",
      "\n",
      "Avril 50 is 144 meters away on Sansom Street\n",
      "\n",
      "Starbucks is 262 meters away\n",
      "\n",
      "Kiwi Frozen Yougurt is 327 meters away\n",
      "\n",
      "Saxby's is 377 meters away on Chestnut Street\n",
      "\n",
      "Joe Coffee is 421 meters away on Chestnut\n",
      "\n",
      "Starbucks is 510 meters away\n",
      "\n",
      "Starbucks is 551 meters away\n",
      "\n",
      "Starbucks is 564 meters away\n",
      "\n",
      "Saxbys - Drexel is 604 meters away on North 34th Street\n",
      "\n",
      "World Cafe Live is 650 meters away on Walnut Street\n",
      "\n",
      "Starbucks is 678 meters away\n",
      "\n",
      "Saxbys is 879 meters away on Locust Street\n",
      "\n",
      "Green Line Cafe is 922 meters away on S 41st St\n",
      "\n",
      "Metropolitan Bakery Café is 932 meters away on Walnut Street\n",
      "\n"
     ]
    }
   ],
   "source": [
    "for row in response:\n",
    "    description = f\"{row['amenity_name']} is {row['distance_away_meters']} meters away\"\n",
    "    if row['address'] is not None:\n",
    "        description = description + f\" on {row['address']}\"\n",
    "    print(description + '\\n')"
   ]
  },
  {
   "cell_type": "code",
   "execution_count": null,
   "metadata": {},
   "outputs": [],
   "source": [
    "from cartoframes.viz import Layer\n",
    "\n",
    "cafes = gpd.GeoDataFrame(response.to_dataframe(), geometry=[wkt.loads(row.geometry).centroid for row in response], crs=\"epsg:4326\")\n",
    "\n",
    "Layer(cafes)"
   ]
  },
  {
   "cell_type": "markdown",
   "metadata": {},
   "source": [
    "### Add input validation"
   ]
  },
  {
   "cell_type": "code",
   "execution_count": null,
   "metadata": {},
   "outputs": [],
   "source": [
    "query = f\"\"\"\n",
    "SELECT DISTINCT (select value from unnest(all_tags) WHERE key = 'amenity') as amenity_type\n",
    "  FROM `bigquery-public-data.geo_openstreetmap.planet_features`\n",
    " WHERE 'amenity' IN (SELECT key FROM UNNEST(all_tags))\n",
    " AND ST_INTERSECTSBOX(ST_Centroid(geometry), -75.280298,39.867005,-74.955831,40.137959)\n",
    "\"\"\"\n",
    "response = bqclient.query(query)"
   ]
  },
  {
   "cell_type": "code",
   "execution_count": null,
   "metadata": {},
   "outputs": [],
   "source": [
    "poi_valid_set = set([row['amenity_type'] for row in response])\n",
    "poi_valid_set"
   ]
  },
  {
   "cell_type": "code",
   "execution_count": null,
   "metadata": {},
   "outputs": [],
   "source": [
    "def validate_poi_input(category):\n",
    "    if category not in poi_valid_set:\n",
    "        raise ValueError(f\"`{category}` is not valid entry. Try one of {', '.join(poi_valid_set)}\")"
   ]
  },
  {
   "cell_type": "code",
   "execution_count": null,
   "metadata": {},
   "outputs": [],
   "source": [
    "validate_poi_input('hi')"
   ]
  },
  {
   "cell_type": "code",
   "execution_count": null,
   "metadata": {},
   "outputs": [],
   "source": [
    "def get_nearest_cafes(lng, lat, distance, amenity_type=\"cafe\"):\n",
    "    validate_poi_input(amenity_type)\n",
    "    job_config = bigquery.QueryJobConfig(\n",
    "        query_parameters=[\n",
    "            bigquery.ScalarQueryParameter(\"poi_category\", \"STRING\", amenity_type),\n",
    "            bigquery.ScalarQueryParameter(\"lng\", \"FLOAT\", lng),\n",
    "            bigquery.ScalarQueryParameter(\"lat\", \"FLOAT\", lat),\n",
    "            bigquery.ScalarQueryParameter(\"distance\", \"FLOAT\", distance)\n",
    "        ]\n",
    "    )\n",
    "    query = f\"\"\"\n",
    "        SELECT (select value from unnest(all_tags) WHERE key = 'name') as amenity_name, \n",
    "               (select value from unnest(all_tags) WHERE key = 'amenity') as amenity_type,\n",
    "               (select value from unnest(all_tags) WHERE key = 'addr:street') as address,\n",
    "               (select value from unnest(all_tags) WHERE key = 'phone') as phone_number,\n",
    "               CAST(round(ST_Distance(ST_GeogPoint(@lng, @lat), ST_Centroid(geometry))) AS int64) as distance_away_meters,\n",
    "               geometry\n",
    "          FROM `bigquery-public-data.geo_openstreetmap.planet_features`\n",
    "         WHERE ('amenity', @poi_category) IN (SELECT (key, value) FROM UNNEST(all_tags))\n",
    "         and ST_DWithin(ST_GeogPoint(@lng, @lat), ST_Centroid(geometry), @distance)\n",
    "         ORDER BY distance_away_meters ASC\n",
    "    \"\"\"\n",
    "    response = bqclient.query(query, job_config=job_config)\n",
    "    return response"
   ]
  },
  {
   "cell_type": "code",
   "execution_count": null,
   "metadata": {},
   "outputs": [],
   "source": [
    "get_nearest_cafes(meyerson_latlng[1], meyerson_latlng[0], 1000, 'bicycle_repair_station').to_dataframe()"
   ]
  },
  {
   "cell_type": "markdown",
   "metadata": {},
   "source": [
    "## OpenStreetMap Editing\n",
    "\n",
    "Are you interested in OSM for your project? There are many ways to get OSM data, including semi-yearly updates on BigQuery. There are daily extracts for regions of the world at [GeoFabrik](https://download.geofabrik.de/). The shapefiles can be big and hard to get down to the region of interest.\n",
    "\n",
    "### Is OSM lacking in a region you want? Start adding your house, your parents house, etc.\n",
    "\n",
    "<https://www.openstreetmap.org/#map=17/39.95484/-75.20505>"
   ]
  }
 ],
 "metadata": {
  "kernelspec": {
   "display_name": "Python 3",
   "language": "python",
   "name": "python3"
  },
  "language_info": {
   "codemirror_mode": {
    "name": "ipython",
    "version": 3
   },
   "file_extension": ".py",
   "mimetype": "text/x-python",
   "name": "python",
   "nbconvert_exporter": "python",
   "pygments_lexer": "ipython3",
   "version": "3.8.6"
  }
 },
 "nbformat": 4,
 "nbformat_minor": 4
}
